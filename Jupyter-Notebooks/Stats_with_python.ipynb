{
  "nbformat": 4,
  "nbformat_minor": 0,
  "metadata": {
    "colab": {
      "provenance": []
    },
    "kernelspec": {
      "name": "python3",
      "display_name": "Python 3"
    },
    "language_info": {
      "name": "python"
    }
  },
  "cells": [
    {
      "cell_type": "code",
      "execution_count": null,
      "metadata": {
        "id": "ICv5Uuo_t36x"
      },
      "outputs": [],
      "source": [
        "import pandas as pd\n",
        "import numpy as np"
      ]
    },
    {
      "cell_type": "code",
      "source": [
        "from google.colab import drive\n",
        "drive.mount('/content/drive')"
      ],
      "metadata": {
        "id": "J6blwfPxudU6",
        "colab": {
          "base_uri": "https://localhost:8080/"
        },
        "outputId": "788cb963-1ae2-4d68-e157-accc94d5fb38"
      },
      "execution_count": null,
      "outputs": [
        {
          "output_type": "stream",
          "name": "stdout",
          "text": [
            "Mounted at /content/drive\n"
          ]
        }
      ]
    },
    {
      "cell_type": "markdown",
      "source": [
        "# **Reading the DataFrame**"
      ],
      "metadata": {
        "id": "MdmbUKSEu0qv"
      }
    },
    {
      "cell_type": "code",
      "source": [
        "df = pd.read_csv('/content/drive/MyDrive/Online Retail Data/Online Retail Data Set.csv',encoding='unicode_escape')"
      ],
      "metadata": {
        "id": "OxeCvRnOua8J"
      },
      "execution_count": null,
      "outputs": []
    },
    {
      "cell_type": "markdown",
      "source": [
        "# **Displaying all columns in the Dataframe**"
      ],
      "metadata": {
        "id": "Fp4h_HV2vFd4"
      }
    },
    {
      "cell_type": "code",
      "source": [
        "df.columns"
      ],
      "metadata": {
        "id": "BKbTMFxtvJ5x",
        "colab": {
          "base_uri": "https://localhost:8080/"
        },
        "outputId": "7b17bca3-d358-470a-9ec8-32841e4a593c"
      },
      "execution_count": null,
      "outputs": [
        {
          "output_type": "execute_result",
          "data": {
            "text/plain": [
              "Index(['InvoiceNo', 'StockCode', 'Description', 'Quantity', 'InvoiceDate',\n",
              "       'UnitPrice', 'CustomerID', 'Country'],\n",
              "      dtype='object')"
            ]
          },
          "metadata": {},
          "execution_count": 4
        }
      ]
    },
    {
      "cell_type": "markdown",
      "source": [
        "# **File Information**"
      ],
      "metadata": {
        "id": "UYLZkyepvNEy"
      }
    },
    {
      "cell_type": "code",
      "source": [
        "df.info()"
      ],
      "metadata": {
        "id": "_7lFoRY7vLYb",
        "colab": {
          "base_uri": "https://localhost:8080/"
        },
        "outputId": "fe2fbc49-316e-4e68-f96d-600fc44e2baa"
      },
      "execution_count": null,
      "outputs": [
        {
          "output_type": "stream",
          "name": "stdout",
          "text": [
            "<class 'pandas.core.frame.DataFrame'>\n",
            "RangeIndex: 541909 entries, 0 to 541908\n",
            "Data columns (total 8 columns):\n",
            " #   Column       Non-Null Count   Dtype  \n",
            "---  ------       --------------   -----  \n",
            " 0   InvoiceNo    541909 non-null  object \n",
            " 1   StockCode    541909 non-null  object \n",
            " 2   Description  540455 non-null  object \n",
            " 3   Quantity     541909 non-null  int64  \n",
            " 4   InvoiceDate  541909 non-null  object \n",
            " 5   UnitPrice    541909 non-null  float64\n",
            " 6   CustomerID   406829 non-null  float64\n",
            " 7   Country      541909 non-null  object \n",
            "dtypes: float64(2), int64(1), object(5)\n",
            "memory usage: 33.1+ MB\n"
          ]
        }
      ]
    },
    {
      "cell_type": "markdown",
      "source": [
        "# **Data Description**"
      ],
      "metadata": {
        "id": "tsQTZnvZvWE-"
      }
    },
    {
      "cell_type": "code",
      "source": [
        "df.describe()"
      ],
      "metadata": {
        "id": "K0uq_pw6vSS7",
        "colab": {
          "base_uri": "https://localhost:8080/",
          "height": 300
        },
        "outputId": "e6b4df8f-b10b-4eef-e034-8b7ac6fd6648"
      },
      "execution_count": null,
      "outputs": [
        {
          "output_type": "execute_result",
          "data": {
            "text/plain": [
              "            Quantity      UnitPrice     CustomerID\n",
              "count  541909.000000  541909.000000  406829.000000\n",
              "mean        9.552250       4.611114   15287.690570\n",
              "std       218.081158      96.759853    1713.600303\n",
              "min    -80995.000000  -11062.060000   12346.000000\n",
              "25%         1.000000       1.250000   13953.000000\n",
              "50%         3.000000       2.080000   15152.000000\n",
              "75%        10.000000       4.130000   16791.000000\n",
              "max     80995.000000   38970.000000   18287.000000"
            ],
            "text/html": [
              "\n",
              "  <div id=\"df-6bfdb070-ca62-4e8f-a8bc-9e639f197268\" class=\"colab-df-container\">\n",
              "    <div>\n",
              "<style scoped>\n",
              "    .dataframe tbody tr th:only-of-type {\n",
              "        vertical-align: middle;\n",
              "    }\n",
              "\n",
              "    .dataframe tbody tr th {\n",
              "        vertical-align: top;\n",
              "    }\n",
              "\n",
              "    .dataframe thead th {\n",
              "        text-align: right;\n",
              "    }\n",
              "</style>\n",
              "<table border=\"1\" class=\"dataframe\">\n",
              "  <thead>\n",
              "    <tr style=\"text-align: right;\">\n",
              "      <th></th>\n",
              "      <th>Quantity</th>\n",
              "      <th>UnitPrice</th>\n",
              "      <th>CustomerID</th>\n",
              "    </tr>\n",
              "  </thead>\n",
              "  <tbody>\n",
              "    <tr>\n",
              "      <th>count</th>\n",
              "      <td>541909.000000</td>\n",
              "      <td>541909.000000</td>\n",
              "      <td>406829.000000</td>\n",
              "    </tr>\n",
              "    <tr>\n",
              "      <th>mean</th>\n",
              "      <td>9.552250</td>\n",
              "      <td>4.611114</td>\n",
              "      <td>15287.690570</td>\n",
              "    </tr>\n",
              "    <tr>\n",
              "      <th>std</th>\n",
              "      <td>218.081158</td>\n",
              "      <td>96.759853</td>\n",
              "      <td>1713.600303</td>\n",
              "    </tr>\n",
              "    <tr>\n",
              "      <th>min</th>\n",
              "      <td>-80995.000000</td>\n",
              "      <td>-11062.060000</td>\n",
              "      <td>12346.000000</td>\n",
              "    </tr>\n",
              "    <tr>\n",
              "      <th>25%</th>\n",
              "      <td>1.000000</td>\n",
              "      <td>1.250000</td>\n",
              "      <td>13953.000000</td>\n",
              "    </tr>\n",
              "    <tr>\n",
              "      <th>50%</th>\n",
              "      <td>3.000000</td>\n",
              "      <td>2.080000</td>\n",
              "      <td>15152.000000</td>\n",
              "    </tr>\n",
              "    <tr>\n",
              "      <th>75%</th>\n",
              "      <td>10.000000</td>\n",
              "      <td>4.130000</td>\n",
              "      <td>16791.000000</td>\n",
              "    </tr>\n",
              "    <tr>\n",
              "      <th>max</th>\n",
              "      <td>80995.000000</td>\n",
              "      <td>38970.000000</td>\n",
              "      <td>18287.000000</td>\n",
              "    </tr>\n",
              "  </tbody>\n",
              "</table>\n",
              "</div>\n",
              "    <div class=\"colab-df-buttons\">\n",
              "\n",
              "  <div class=\"colab-df-container\">\n",
              "    <button class=\"colab-df-convert\" onclick=\"convertToInteractive('df-6bfdb070-ca62-4e8f-a8bc-9e639f197268')\"\n",
              "            title=\"Convert this dataframe to an interactive table.\"\n",
              "            style=\"display:none;\">\n",
              "\n",
              "  <svg xmlns=\"http://www.w3.org/2000/svg\" height=\"24px\" viewBox=\"0 -960 960 960\">\n",
              "    <path d=\"M120-120v-720h720v720H120Zm60-500h600v-160H180v160Zm220 220h160v-160H400v160Zm0 220h160v-160H400v160ZM180-400h160v-160H180v160Zm440 0h160v-160H620v160ZM180-180h160v-160H180v160Zm440 0h160v-160H620v160Z\"/>\n",
              "  </svg>\n",
              "    </button>\n",
              "\n",
              "  <style>\n",
              "    .colab-df-container {\n",
              "      display:flex;\n",
              "      gap: 12px;\n",
              "    }\n",
              "\n",
              "    .colab-df-convert {\n",
              "      background-color: #E8F0FE;\n",
              "      border: none;\n",
              "      border-radius: 50%;\n",
              "      cursor: pointer;\n",
              "      display: none;\n",
              "      fill: #1967D2;\n",
              "      height: 32px;\n",
              "      padding: 0 0 0 0;\n",
              "      width: 32px;\n",
              "    }\n",
              "\n",
              "    .colab-df-convert:hover {\n",
              "      background-color: #E2EBFA;\n",
              "      box-shadow: 0px 1px 2px rgba(60, 64, 67, 0.3), 0px 1px 3px 1px rgba(60, 64, 67, 0.15);\n",
              "      fill: #174EA6;\n",
              "    }\n",
              "\n",
              "    .colab-df-buttons div {\n",
              "      margin-bottom: 4px;\n",
              "    }\n",
              "\n",
              "    [theme=dark] .colab-df-convert {\n",
              "      background-color: #3B4455;\n",
              "      fill: #D2E3FC;\n",
              "    }\n",
              "\n",
              "    [theme=dark] .colab-df-convert:hover {\n",
              "      background-color: #434B5C;\n",
              "      box-shadow: 0px 1px 3px 1px rgba(0, 0, 0, 0.15);\n",
              "      filter: drop-shadow(0px 1px 2px rgba(0, 0, 0, 0.3));\n",
              "      fill: #FFFFFF;\n",
              "    }\n",
              "  </style>\n",
              "\n",
              "    <script>\n",
              "      const buttonEl =\n",
              "        document.querySelector('#df-6bfdb070-ca62-4e8f-a8bc-9e639f197268 button.colab-df-convert');\n",
              "      buttonEl.style.display =\n",
              "        google.colab.kernel.accessAllowed ? 'block' : 'none';\n",
              "\n",
              "      async function convertToInteractive(key) {\n",
              "        const element = document.querySelector('#df-6bfdb070-ca62-4e8f-a8bc-9e639f197268');\n",
              "        const dataTable =\n",
              "          await google.colab.kernel.invokeFunction('convertToInteractive',\n",
              "                                                    [key], {});\n",
              "        if (!dataTable) return;\n",
              "\n",
              "        const docLinkHtml = 'Like what you see? Visit the ' +\n",
              "          '<a target=\"_blank\" href=https://colab.research.google.com/notebooks/data_table.ipynb>data table notebook</a>'\n",
              "          + ' to learn more about interactive tables.';\n",
              "        element.innerHTML = '';\n",
              "        dataTable['output_type'] = 'display_data';\n",
              "        await google.colab.output.renderOutput(dataTable, element);\n",
              "        const docLink = document.createElement('div');\n",
              "        docLink.innerHTML = docLinkHtml;\n",
              "        element.appendChild(docLink);\n",
              "      }\n",
              "    </script>\n",
              "  </div>\n",
              "\n",
              "\n",
              "<div id=\"df-802c3cb0-0e05-462b-a832-6beb4d51e07d\">\n",
              "  <button class=\"colab-df-quickchart\" onclick=\"quickchart('df-802c3cb0-0e05-462b-a832-6beb4d51e07d')\"\n",
              "            title=\"Suggest charts.\"\n",
              "            style=\"display:none;\">\n",
              "\n",
              "<svg xmlns=\"http://www.w3.org/2000/svg\" height=\"24px\"viewBox=\"0 0 24 24\"\n",
              "     width=\"24px\">\n",
              "    <g>\n",
              "        <path d=\"M19 3H5c-1.1 0-2 .9-2 2v14c0 1.1.9 2 2 2h14c1.1 0 2-.9 2-2V5c0-1.1-.9-2-2-2zM9 17H7v-7h2v7zm4 0h-2V7h2v10zm4 0h-2v-4h2v4z\"/>\n",
              "    </g>\n",
              "</svg>\n",
              "  </button>\n",
              "\n",
              "<style>\n",
              "  .colab-df-quickchart {\n",
              "    background-color: #E8F0FE;\n",
              "    border: none;\n",
              "    border-radius: 50%;\n",
              "    cursor: pointer;\n",
              "    display: none;\n",
              "    fill: #1967D2;\n",
              "    height: 32px;\n",
              "    padding: 0 0 0 0;\n",
              "    width: 32px;\n",
              "  }\n",
              "\n",
              "  .colab-df-quickchart:hover {\n",
              "    background-color: #E2EBFA;\n",
              "    box-shadow: 0px 1px 2px rgba(60, 64, 67, 0.3), 0px 1px 3px 1px rgba(60, 64, 67, 0.15);\n",
              "    fill: #174EA6;\n",
              "  }\n",
              "\n",
              "  [theme=dark] .colab-df-quickchart {\n",
              "    background-color: #3B4455;\n",
              "    fill: #D2E3FC;\n",
              "  }\n",
              "\n",
              "  [theme=dark] .colab-df-quickchart:hover {\n",
              "    background-color: #434B5C;\n",
              "    box-shadow: 0px 1px 3px 1px rgba(0, 0, 0, 0.15);\n",
              "    filter: drop-shadow(0px 1px 2px rgba(0, 0, 0, 0.3));\n",
              "    fill: #FFFFFF;\n",
              "  }\n",
              "</style>\n",
              "\n",
              "  <script>\n",
              "    async function quickchart(key) {\n",
              "      const charts = await google.colab.kernel.invokeFunction(\n",
              "          'suggestCharts', [key], {});\n",
              "    }\n",
              "    (() => {\n",
              "      let quickchartButtonEl =\n",
              "        document.querySelector('#df-802c3cb0-0e05-462b-a832-6beb4d51e07d button');\n",
              "      quickchartButtonEl.style.display =\n",
              "        google.colab.kernel.accessAllowed ? 'block' : 'none';\n",
              "    })();\n",
              "  </script>\n",
              "</div>\n",
              "    </div>\n",
              "  </div>\n"
            ]
          },
          "metadata": {},
          "execution_count": 6
        }
      ]
    },
    {
      "cell_type": "markdown",
      "source": [
        "# **Measure of Central Tendencies**\n",
        "\n",
        "Central Tendencies are the numerical values that are used to represent mid-value or central value a large collection of numerical data. These obtained numerical values are called central or average values. A central or average value of any statistical data or series is the value of that variable that is representative of the entire data or its associated frequency distribution. Such a value is of great significance because it depicts the nature or characteristics of the entire data, which is otherwise very difficult to observe.\n",
        "\n",
        "\n",
        "The representative value of a data set, generally the central value or the most occurring value that gives a general idea of the whole data set is called the Measure of Central Tendency.\n",
        "\n",
        "# **1. Mean**\n",
        "\n",
        "Mean in general terms is used for the arithmetic mean of the data, but other than the arithmetic mean there are geometric mean and harmonic mean as well that are calculated using different formulas. Here in this article, we will discuss the arithmetic mean.\n",
        "\n",
        "\n",
        "# **2. Median**\n",
        "The Median of any distribution is that value that divides the distribution into two equal parts such that the number of observations above it is equal to the number of observations below it. Thus, the median is called the central value of any given data either grouped or ungrouped.\n",
        "\n",
        "\n",
        "# **3. Mode**\n",
        "The Mode is the value of that observation which has a maximum frequency corresponding to it. In other, that observation of the data occurs the maximum number of times in a dataset."
      ],
      "metadata": {
        "id": "7UTyeR7Hv-bg"
      }
    },
    {
      "cell_type": "code",
      "source": [
        "print('average : ',df['UnitPrice'].mean())\n",
        "print('median : ',df['UnitPrice'].median())\n",
        "\n",
        "print('mode')\n",
        "print(df['UnitPrice'].mode())"
      ],
      "metadata": {
        "id": "TbZDtKQov7vP",
        "colab": {
          "base_uri": "https://localhost:8080/"
        },
        "outputId": "8be03083-b798-4b55-f057-f7ea658945fc"
      },
      "execution_count": null,
      "outputs": [
        {
          "output_type": "stream",
          "name": "stdout",
          "text": [
            "average :  4.611113626088513\n",
            "median :  2.08\n",
            "mode\n",
            "0    1.25\n",
            "Name: UnitPrice, dtype: float64\n"
          ]
        }
      ]
    },
    {
      "cell_type": "code",
      "source": [
        "print('average : ',df['Quantity'].mean())\n",
        "print('median : ',df['Quantity'].median())\n",
        "\n",
        "print('mode')\n",
        "print(df['Quantity'].mode())"
      ],
      "metadata": {
        "id": "KVqkvGXyvbMn",
        "colab": {
          "base_uri": "https://localhost:8080/"
        },
        "outputId": "9ab7ada0-ae04-4dfc-8add-1dd8f6cb2074"
      },
      "execution_count": null,
      "outputs": [
        {
          "output_type": "stream",
          "name": "stdout",
          "text": [
            "average :  9.55224954743324\n",
            "median :  3.0\n",
            "mode\n",
            "0    1\n",
            "Name: Quantity, dtype: int64\n"
          ]
        }
      ]
    },
    {
      "cell_type": "markdown",
      "source": [
        "# **Variance**\n",
        "\n",
        "The term variance refers to a statistical measurement of the spread between numbers in a data set. More specifically, variance measures how far each number in the set is from the mean (average), and thus from every other number in the set. Variance is often depicted by this symbol: σ2. It is used by both analysts and traders to determine volatility and market security."
      ],
      "metadata": {
        "id": "Z34d9UinyaUP"
      }
    },
    {
      "cell_type": "code",
      "source": [
        "print('Variance of unit price : ',df['UnitPrice'].var())\n",
        "print('Variance of Quantity : ',df['Quantity'].var())"
      ],
      "metadata": {
        "id": "-dBX_ovgydMc",
        "colab": {
          "base_uri": "https://localhost:8080/"
        },
        "outputId": "f9405ac5-f038-4a39-80ed-d0e8c450994d"
      },
      "execution_count": null,
      "outputs": [
        {
          "output_type": "stream",
          "name": "stdout",
          "text": [
            "Variance of unit price :  9362.469164421025\n",
            "Variance of Quantity :  47559.3914092986\n"
          ]
        }
      ]
    },
    {
      "cell_type": "markdown",
      "source": [
        "# **What is Standard deviation?**\n",
        "\n",
        "Standard Deviation is a measure which shows how much variation (such as spread, dispersion, spread,) from the mean exists. The standard deviation indicates a “typical” deviation from the mean. It is a popular measure of variability because it returns to the original units of measure of the data set.  Like the variance, if the data points are close to the mean, there is a small variation whereas the data points are highly spread out from the mean, then it has a high variance. Standard deviation calculates the extent to which the values differ from the average. Standard Deviation, the most widely used measure of dispersion, is based on all values. Therefore a change in even one value affects the value of standard deviation. It is independent of origin but not of scale. It is also useful in certain advanced statistical problems."
      ],
      "metadata": {
        "id": "xCtAJNtJzJ-m"
      }
    },
    {
      "cell_type": "code",
      "source": [
        "print('standard deviation of unit price : ',df['UnitPrice'].std())\n",
        "print('standard deviation of Quantity : ',df['Quantity'].std())"
      ],
      "metadata": {
        "id": "1oI4W8pOy24M",
        "colab": {
          "base_uri": "https://localhost:8080/"
        },
        "outputId": "38cd111d-bc72-46b1-86a8-dd95063c3dea"
      },
      "execution_count": null,
      "outputs": [
        {
          "output_type": "stream",
          "name": "stdout",
          "text": [
            "standard deviation of unit price :  96.75985306117938\n",
            "standard deviation of Quantity :  218.08115785023384\n"
          ]
        }
      ]
    },
    {
      "cell_type": "markdown",
      "source": [
        "# **Quartiles**\n",
        "\n",
        "Quartiles are three values that split sorted data into four parts, each with an equal number of observations. Quartiles are a type of quantile.\n",
        "\n",
        "First quartile: Also known as Q1, or the lower quartile. This is the number halfway between the lowest number and the middle number.\n",
        "\n",
        "Second quartile: Also known as Q2, or the median. This is the middle number halfway between the lowest number and the highest number.\n",
        "\n",
        "Third quartile: Also known as Q3, or the upper quartile. This is the number halfway between the middle number and the highest number.\n",
        "\n",
        "# **Interquartile range**\n",
        "\n",
        "The distance between the first and third quartiles—the interquartile range (IQR)—is a measure of variability. It indicates the spread of the middle 50% of the data.\n",
        "\n",
        "\n",
        "IQR = Q3 − Q1"
      ],
      "metadata": {
        "id": "q53WmteV0iZW"
      }
    },
    {
      "cell_type": "code",
      "source": [
        "print('following Quartiles of unit price : ',df['UnitPrice'].quantile(0.75))\n",
        "print('following Quartiles of Quantity : ',df['Quantity'].quantile(0.5))"
      ],
      "metadata": {
        "id": "tJ0ret9q0rTu",
        "colab": {
          "base_uri": "https://localhost:8080/"
        },
        "outputId": "a50acbda-75a4-481d-bede-fab55d0b4482"
      },
      "execution_count": null,
      "outputs": [
        {
          "output_type": "stream",
          "name": "stdout",
          "text": [
            "following Quartiles of unit price :  4.13\n",
            "following Quartiles of Quantity :  3.0\n"
          ]
        }
      ]
    },
    {
      "cell_type": "markdown",
      "source": [
        "\n",
        "# **Skewness**\n",
        "Skewness is a statistical measure that assesses the asymmetry of a probability distribution. It quantifies the extent to which the data is skewed or shifted to one side.\n",
        "\n",
        "Positive skewness indicates a longer tail on the right side of the distribution, while negative skewness indicates a longer tail on the left side. Skewness helps in understanding the shape and outliers in a dataset.\n",
        "\n",
        "If the values of a specific independent variable (feature) are skewed, depending on the model, skewness may violate model assumptions or may reduce the interpretation of feature importance.\n",
        "\n",
        "\n",
        "# **Positive Skewed or Right-Skewed  (Positive Skewness)**\n",
        "In statistics, a positively skewed or right-skewed distribution has a long right tail. It is a sort of distribution where the measures are dispersing, unlike symmetrically distributed data where all measures of the central tendency (mean, median, and mode) equal each other. This makes Positively Skewed Distribution a type of distribution where the mean, median, and mode of the distribution are positive rather than negative or zero.\n",
        "\n",
        "# **Negative Skewed or Left-Skewed (Negative Skewness)**\n",
        "A negatively skewed or left-skewed distribution has a long left tail; it is the complete opposite of a positively skewed distribution. In statistics, negatively skewed distribution refers to the distribution model where more values are plots on the right side of the graph, and the tail of the distribution is spreading on the left side.\n",
        "\n",
        "In negatively skewed, the mean of the data is less than the median (a large number of data-pushed on the left-hand side). Negatively Skewed Distribution is a type of distribution where the mean, median, and mode of the distribution are negative rather than positive or zero."
      ],
      "metadata": {
        "id": "4JR-qs7cH6L6"
      }
    },
    {
      "cell_type": "code",
      "source": [
        "print('following Quartiles of unit price : ',df['UnitPrice'].skew())\n",
        "print('following Quartiles of Quantity : ',df['Quantity'].skew())"
      ],
      "metadata": {
        "id": "MlkEH3x21pTU",
        "colab": {
          "base_uri": "https://localhost:8080/"
        },
        "outputId": "c0c033d3-0fc9-4aa3-8204-6be9cb86d598"
      },
      "execution_count": null,
      "outputs": [
        {
          "output_type": "stream",
          "name": "stdout",
          "text": [
            "following Quartiles of unit price :  186.50697172054137\n",
            "following Quartiles of Quantity :  -0.2640763070668848\n"
          ]
        }
      ]
    },
    {
      "cell_type": "markdown",
      "source": [
        "# **Population**\n",
        "\n",
        "In statistics, a population is a set of similar items or events which is of interest for some question or experiment.[1] A statistical population can be a group of existing objects (e.g. the set of all stars within the Milky Way galaxy) or a hypothetical and potentially infinite group of objects conceived as a generalization from experience (e.g. the set of all possible hands in a game of poker).[2] A common aim of statistical analysis is to produce information about some chosen population.[3]\n",
        "\n",
        "In statistical inference, a subset of the population (a statistical sample) is chosen to represent the population in a statistical analysis.[4] Moreover, the statistical sample must be unbiased and accurately model the population (every unit of the population has an equal chance of selection). The ratio of the size of this statistical sample to the size of the population is called a sampling fraction. It is then possible to estimate the population parameters using the appropriate sample statistics.\n",
        "\n",
        "# **Sample**\n",
        "A sample refers to a smaller, manageable version of a larger group. It is a subset containing the characteristics of a larger population. Samples are used in statistical testing when population sizes are too large for the test to include all possible members or observations. A sample should represent the population as a whole and not reflect any bias toward a specific attribute.\n",
        "\n",
        "There are several sampling techniques used by researchers and statisticians, each with its own benefits and drawbacks.\n",
        "\n",
        "\n",
        "# **How Large of a Sample Do You Need?**\n",
        "\n",
        "This will depend on the size of the population and the type of analysis you'd like to do (e.g., what confidence intervals you are using). Power analysis is a technique for mathematically evaluating the smallest sample size needed based on your needs. Another rule of thumb is that your sample should be large enough, but no more than 10% as large as the population."
      ],
      "metadata": {
        "id": "WOFaR8w-9QdT"
      }
    },
    {
      "cell_type": "code",
      "source": [
        "df.shape"
      ],
      "metadata": {
        "colab": {
          "base_uri": "https://localhost:8080/"
        },
        "id": "gOrM33irzAJC",
        "outputId": "48984d5a-707e-4686-f59b-e10928b357e5"
      },
      "execution_count": null,
      "outputs": [
        {
          "output_type": "execute_result",
          "data": {
            "text/plain": [
              "(541909, 8)"
            ]
          },
          "metadata": {},
          "execution_count": 20
        }
      ]
    },
    {
      "cell_type": "code",
      "source": [
        "ten_percent = df.shape[0] * 0.25"
      ],
      "metadata": {
        "id": "T1rOosun8z-l"
      },
      "execution_count": null,
      "outputs": []
    },
    {
      "cell_type": "code",
      "source": [
        "ten_percent"
      ],
      "metadata": {
        "id": "EM-X12IyAFjE",
        "colab": {
          "base_uri": "https://localhost:8080/"
        },
        "outputId": "e266dcd5-a085-4c7a-ad80-a07e1e134c1f"
      },
      "execution_count": null,
      "outputs": [
        {
          "output_type": "execute_result",
          "data": {
            "text/plain": [
              "135477.25"
            ]
          },
          "metadata": {},
          "execution_count": 27
        }
      ]
    },
    {
      "cell_type": "code",
      "source": [
        "sample_=df['UnitPrice'].to_list()[0:int(ten_percent)]"
      ],
      "metadata": {
        "id": "pemMIbUJ_Ui2"
      },
      "execution_count": null,
      "outputs": []
    },
    {
      "cell_type": "code",
      "source": [
        "len(sample_)"
      ],
      "metadata": {
        "id": "nnWIE9zzCvwq",
        "colab": {
          "base_uri": "https://localhost:8080/"
        },
        "outputId": "0a3de684-c904-4859-beda-d0ff0cc08fcf"
      },
      "execution_count": null,
      "outputs": [
        {
          "output_type": "execute_result",
          "data": {
            "text/plain": [
              "135477"
            ]
          },
          "metadata": {},
          "execution_count": 29
        }
      ]
    },
    {
      "cell_type": "code",
      "source": [
        "print(sum(sample_)/len(sample_))"
      ],
      "metadata": {
        "id": "NiA2cZVvCv6p",
        "colab": {
          "base_uri": "https://localhost:8080/"
        },
        "outputId": "cfff0bf6-6d04-41ce-c08b-80b2c4fbe156"
      },
      "execution_count": null,
      "outputs": [
        {
          "output_type": "stream",
          "name": "stdout",
          "text": [
            "5.1691809679853336\n"
          ]
        }
      ]
    },
    {
      "cell_type": "code",
      "source": [],
      "metadata": {
        "id": "lLfLW_YkCwH5"
      },
      "execution_count": null,
      "outputs": []
    },
    {
      "cell_type": "markdown",
      "source": [
        "# **Hypothesis Testing**\n",
        "\n",
        "The hypothesis is nothing but an assumption which we make by our observations. so probability and statistics are all about data, the huge amount of data, and that data is only useful for us if we can analyze the data and finally draw some conclusion about the data. and to find out interpretation and conclusion about the data we basically use Hypothesis testing. so now the hypothesis testing is to Evaluating two mutually exclusive statements on population data using sample data is called Hypothesis Testing. we will talk later on two mutually exclusive statements but for now, basically, try to understand hypothesis testing.\n",
        "\n",
        "So validating one of the two alternatives assumptions by measuring the probability of population data using sample data with respect to our one of the two assumptions is true called hypothesis testing.\n",
        "\n",
        "# **Null Hypothesis and Alternative Hypothesis:**\n",
        "\n",
        "\n",
        "So as we discuss earlier that Evaluating two mutually exclusive statements on population data using sample data is called Hypothesis. so the two mutually exclusive statements are known as Null Hypothesis and Alternative Hypothesis which are denoted by H0 and H1 respectively. in Hypothesis testing, if we want to reach a conclusion, then we have to make two statements in such a way that if one statement is true the other will automatically be wrong. in no case should both the statements be true or false at the same time"
      ],
      "metadata": {
        "id": "euK8Y2cmCwo8"
      }
    },
    {
      "cell_type": "markdown",
      "source": [
        "# **What are the Z-test and T-test?**\n",
        "\n",
        "The Z-test and T-test are both hypothesis tests used to determine if there is a significant difference between the sample mean and the population mean. They help us understand whether observed differences in data are likely due to chance or represent true population characteristics.\n",
        "\n",
        "# **Z-test:**\n",
        "\n",
        "The Z-test is used when we know the population standard deviation (σ) and the sample size is large (typically n > 30). It is often applied in scenarios where we have ample data points, allowing us to assume that the sample mean follows a normal distribution.\n",
        "\n",
        "# **T-test:**\n",
        "\n",
        "\n",
        "The T-test is more appropriate when the population standard deviation (σ) is unknown or when the sample size is small (typically n < 30). It assumes the data follows a normal distribution and uses the sample standard deviation (s) to estimate the population standard deviation\n",
        "\n",
        "\n",
        "# **When to use each test?**\n",
        "\n",
        "Use the Z-test when:\n",
        "Population standard deviation (σ) is known.\n",
        "Sample size (n) is large (typically n > 30).\n",
        "\n",
        "Use the T-test when:\n",
        "Population standard deviation (σ) is unknown.\n",
        "Sample size (n) is small (typically n < 30).\n",
        "\n",
        "\n",
        "# **Why is the T-test preferred over the Z-test?**\n",
        "\n",
        "The T-test is preferred over the Z-test for several reasons:\n",
        "\n",
        "1️] Small Sample Sizes: When the sample size is small (n < 30), the T-test is more accurate as it accounts for the increased uncertainty associated with limited data points. In such cases, the Z-test assumptions may not hold, making the T-test a more appropriate choice.\n",
        "\n",
        "2️] Robustness to Outliers: The T-test is less sensitive to outliers compared to the Z-test. Outliers can significantly affect the results of the Z-test, leading to misleading conclusions. Removing outliers before conducting the T-test can yield more accurate and reliable results.\n",
        "\n",
        "3️] Approximation: When the sample size becomes large (n ≥ 30), the T-distribution approximates the standard normal distribution (Z-distribution). Consequently, the T-test and Z-test will yield similar results for large samples, making the T-test still valid for reasonably large sample sizes"
      ],
      "metadata": {
        "id": "Q3LEvnqnCwwR"
      }
    },
    {
      "cell_type": "code",
      "source": [
        "from statsmodels.stats.weightstats import ztest as ztest\n",
        "\n",
        "# H0 mean is under 20  reject if p < 0.05\n",
        "# H1 mean is not under 20\n",
        "\n",
        "data = [88, 92, 94, 94, 96, 97, 97, 97, 99, 99,\n",
        "        105, 109, 109, 109, 110, 112, 112, 113, 114, 115]\n",
        "\n",
        "ztest(data, value=20)\n"
      ],
      "metadata": {
        "id": "IFPBNaM3_nCQ",
        "colab": {
          "base_uri": "https://localhost:8080/"
        },
        "outputId": "59f3f130-4b04-4f4c-9b08-65e338f3b57a"
      },
      "execution_count": null,
      "outputs": [
        {
          "output_type": "execute_result",
          "data": {
            "text/plain": [
              "(43.502517238676006, 0.0)"
            ]
          },
          "metadata": {},
          "execution_count": 32
        }
      ]
    },
    {
      "cell_type": "code",
      "source": [
        "from statsmodels.stats.weightstats import ztest as ztest\n",
        "\n",
        "# H0 mean is equal       reject if p < 0.05\n",
        "# H1 mean is not equal\n",
        "cityA = [82, 84, 85, 89, 91, 91, 92, 94, 99, 99,\n",
        "         105, 109, 109, 109, 110, 112, 112, 113, 114, 114]\n",
        "\n",
        "cityB = [90, 91, 91, 91, 95, 95, 99, 99, 108, 109,\n",
        "         109, 114, 115, 116, 117, 117, 128, 129, 130, 133]\n",
        "\n",
        "\n",
        "ztest(cityA, cityB, value=0)"
      ],
      "metadata": {
        "id": "MWZNWmzWGPJg",
        "colab": {
          "base_uri": "https://localhost:8080/"
        },
        "outputId": "f83929e6-ea37-4d19-abf0-77496de6407f"
      },
      "execution_count": null,
      "outputs": [
        {
          "output_type": "execute_result",
          "data": {
            "text/plain": [
              "(-1.9953236073282115, 0.046007596761332065)"
            ]
          },
          "metadata": {},
          "execution_count": 33
        }
      ]
    },
    {
      "cell_type": "code",
      "source": [
        "import scipy.stats as stats\n",
        "\n",
        "# H0 mean is not equal to 15       reject if p < 0.05\n",
        "# H1 mean is equal to 15\n",
        "data_ = [14, 14, 16, 13, 12, 17, 15, 14, 15, 13, 15, 14]\n",
        "sample_data = stats.ttest_1samp(a=data_, popmean=15)\n",
        "\n",
        "print(sample_data)"
      ],
      "metadata": {
        "id": "DM7yfsSxN4JW",
        "colab": {
          "base_uri": "https://localhost:8080/"
        },
        "outputId": "895abc77-51ae-4521-a230-9bd84aa5ec53"
      },
      "execution_count": null,
      "outputs": [
        {
          "output_type": "stream",
          "name": "stdout",
          "text": [
            "TtestResult(statistic=-1.6848470783484626, pvalue=0.12014460742498101, df=11)\n"
          ]
        }
      ]
    },
    {
      "cell_type": "code",
      "source": [
        "import numpy as np\n",
        "\n",
        "group1 = np.array([14, 15, 15, 16, 13, 8, 14, 17, 16, 14, 19, 20, 21, 15, 15, 16, 16, 13, 14, 12])\n",
        "group2 = np.array([15, 17, 14, 17, 14, 8, 12, 19, 19, 14, 17, 22, 24, 16, 13, 16, 13, 18, 15, 13])\n",
        "print(stats.ttest_ind(a=group1, b=group2, equal_var=True))"
      ],
      "metadata": {
        "id": "3fAC5TbbOzoV",
        "colab": {
          "base_uri": "https://localhost:8080/"
        },
        "outputId": "4d94a730-b648-4fc4-fc81-52c2452d4621"
      },
      "execution_count": null,
      "outputs": [
        {
          "output_type": "stream",
          "name": "stdout",
          "text": [
            "Ttest_indResult(statistic=-0.6337397070250238, pvalue=0.5300471010405257)\n"
          ]
        }
      ]
    },
    {
      "cell_type": "code",
      "source": [],
      "metadata": {
        "id": "5qdGuJAmO6nb"
      },
      "execution_count": null,
      "outputs": []
    }
  ]
}