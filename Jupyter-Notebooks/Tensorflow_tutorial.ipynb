{
  "cells": [
    {
      "cell_type": "code",
      "execution_count": null,
      "metadata": {
        "id": "IVw0fsmxb4S9"
      },
      "outputs": [],
      "source": [
        "import tensorflow as tf\n",
        "tf.compat.v1.disable_eager_execution()"
      ]
    },
    {
      "cell_type": "markdown",
      "source": [
        "# **Tensorflow Variable**"
      ],
      "metadata": {
        "id": "wGXEoJSjzKg7"
      }
    },
    {
      "cell_type": "code",
      "execution_count": null,
      "metadata": {
        "id": "AMU8b3jNcavl",
        "colab": {
          "base_uri": "https://localhost:8080/"
        },
        "outputId": "ddb7aa77-6272-4be0-c92d-c133b83c83c0"
      },
      "outputs": [
        {
          "output_type": "stream",
          "name": "stdout",
          "text": [
            "Result of multiplying var1 and var2: 12.0\n"
          ]
        }
      ],
      "source": [
        "# Define two variables\n",
        "var1 = tf.Variable(3.0, name=\"var1\")\n",
        "var2 = tf.Variable(4.0, name=\"var2\")\n",
        "\n",
        "# Multiply the two variables\n",
        "result = var1 * var2\n",
        "\n",
        "# Start a TensorFlow session\n",
        "with tf.compat.v1.Session() as sess:\n",
        "    # Initialize variables\n",
        "    sess.run(tf.compat.v1.global_variables_initializer())\n",
        "\n",
        "    # Run the computational graph to compute the result\n",
        "    result_value = sess.run(result)\n",
        "\n",
        "    # Print the computed result\n",
        "    print(\"Result of multiplying var1 and var2:\", result_value)\n",
        "\n"
      ]
    },
    {
      "cell_type": "markdown",
      "source": [
        "# **Tensorflow Placeholder**"
      ],
      "metadata": {
        "id": "PMErO_RuzPAZ"
      }
    },
    {
      "cell_type": "code",
      "source": [
        "# Define input placeholders\n",
        "a = tf.compat.v1.placeholder(tf.float32, name=\"a\")\n",
        "b = tf.compat.v1.placeholder(tf.float32, name=\"b\")\n",
        "\n",
        "# Define operations (nodes) in the graph\n",
        "addition = tf.add(a, b, name=\"addition\")\n",
        "multiplication = tf.multiply(a, b, name=\"multiplication\")\n",
        "\n",
        "# Create a TensorFlow session\n",
        "with tf.compat.v1.Session() as sess:\n",
        "    # Define input values\n",
        "    input_values = {a: 2.0, b: 3.0}\n",
        "\n",
        "    # Run the graph to compute the outputs of the operations\n",
        "    addition_result = sess.run(addition, feed_dict=input_values)\n",
        "    multiplication_result = sess.run(multiplication, feed_dict=input_values)\n",
        "\n",
        "    # Print the results\n",
        "    print(\"Addition result:\", addition_result)\n",
        "    print(\"Multiplication result:\", multiplication_result)"
      ],
      "metadata": {
        "colab": {
          "base_uri": "https://localhost:8080/"
        },
        "id": "l808kPmJm4Xx",
        "outputId": "268bbda8-f1d7-4ba3-9df9-820fe083d023"
      },
      "execution_count": null,
      "outputs": [
        {
          "output_type": "stream",
          "name": "stdout",
          "text": [
            "Addition result: 5.0\n",
            "Multiplication result: 6.0\n"
          ]
        }
      ]
    },
    {
      "cell_type": "markdown",
      "source": [
        "# **Matrix Multiplication using constant**"
      ],
      "metadata": {
        "id": "BYidyGS3zV4A"
      }
    },
    {
      "cell_type": "code",
      "source": [
        "\n",
        "# Define two constant matrices\n",
        "matrix1 = tf.constant([[1, 2, 3],\n",
        "                       [4, 5, 6]], dtype=tf.float32, name=\"matrix1\")\n",
        "\n",
        "matrix2 = tf.constant([[7, 8],\n",
        "                       [9, 10],\n",
        "                       [11, 12]], dtype=tf.float32, name=\"matrix2\")\n",
        "# Matrix multiplication\n",
        "matrix_multiplication = tf.matmul(matrix1, matrix2, name=\"matrix_multiplication\")\n",
        "\n",
        "# Start a TensorFlow session\n",
        "with tf.compat.v1.Session() as sess:\n",
        "    # Compute the addition and multiplication\n",
        "    multiplication_result = sess.run([matrix_multiplication])\n",
        "\n",
        "    print(\"\\nMatrix Multiplication:\")\n",
        "    print(multiplication_result)\n"
      ],
      "metadata": {
        "colab": {
          "base_uri": "https://localhost:8080/"
        },
        "id": "IDk63yLfnvTY",
        "outputId": "70bdf216-81c0-4c9f-8621-ace2ec8b8fc9"
      },
      "execution_count": null,
      "outputs": [
        {
          "output_type": "stream",
          "name": "stdout",
          "text": [
            "\n",
            "Matrix Multiplication:\n",
            "[array([[ 58.,  64.],\n",
            "       [139., 154.]], dtype=float32)]\n"
          ]
        }
      ]
    },
    {
      "cell_type": "markdown",
      "source": [
        "# **Matrix Multiplication using Placeholder**"
      ],
      "metadata": {
        "id": "3Sfb7F9GzdZv"
      }
    },
    {
      "cell_type": "code",
      "source": [
        "# Define input placeholders for matrices\n",
        "matrix1 = tf.compat.v1.placeholder(tf.float32, shape=[None, 3], name=\"matrix1\")\n",
        "matrix2 = tf.compat.v1.placeholder(tf.float32, shape=[3, None], name=\"matrix2\")\n",
        "\n",
        "# Matrix multiplication operation\n",
        "matrix_product = tf.matmul(matrix1, matrix2, name=\"matrix_product\")\n",
        "\n",
        "# Define input values for matrices\n",
        "input_matrix1 = [[1, 2, 3],\n",
        "                 [4, 5, 6]]\n",
        "\n",
        "input_matrix2 = [[7, 8],\n",
        "                 [9, 10],\n",
        "                 [11, 12]]\n",
        "\n",
        "# Start a TensorFlow session\n",
        "with tf.compat.v1.Session() as sess:\n",
        "    # Run the matrix multiplication operation\n",
        "    product_result = sess.run(matrix_product, feed_dict={matrix1: input_matrix1, matrix2: input_matrix2})\n",
        "\n",
        "    # Print the result\n",
        "    print(\"Result of matrix multiplication:\")\n",
        "    print(product_result)\n"
      ],
      "metadata": {
        "colab": {
          "base_uri": "https://localhost:8080/"
        },
        "id": "4g4AhK3KofES",
        "outputId": "40c2fb4d-ce0f-47fc-b566-acb794f68222"
      },
      "execution_count": null,
      "outputs": [
        {
          "output_type": "stream",
          "name": "stdout",
          "text": [
            "Result of matrix multiplication:\n",
            "[[ 58.  64.]\n",
            " [139. 154.]]\n"
          ]
        }
      ]
    },
    {
      "cell_type": "markdown",
      "source": [
        "# **Matrix Addition using Placeholder**"
      ],
      "metadata": {
        "id": "qGJp9zePzuOZ"
      }
    },
    {
      "cell_type": "code",
      "source": [
        "# Define input placeholders for matrices\n",
        "matrix1 = tf.compat.v1.placeholder(tf.float32, shape=[None, None], name=\"matrix1\")\n",
        "matrix2 = tf.compat.v1.placeholder(tf.float32, shape=[None, None], name=\"matrix2\")\n",
        "\n",
        "# Matrix addition operation\n",
        "matrix_sum = tf.add(matrix1, matrix2, name=\"matrix_sum\")\n",
        "\n",
        "# Define input values for matrices\n",
        "input_matrix1 = [[1, 2, 3],\n",
        "                 [4, 5, 6]]\n",
        "\n",
        "input_matrix2 = [[7, 8, 9],\n",
        "                 [10, 11, 12]]\n",
        "\n",
        "# Start a TensorFlow session\n",
        "with tf.compat.v1.Session() as sess:\n",
        "    # Run the matrix addition operation\n",
        "    sum_result = sess.run(matrix_sum, feed_dict={matrix1: input_matrix1, matrix2: input_matrix2})\n",
        "\n",
        "    # Print the result\n",
        "    print(\"Result of matrix addition:\")\n",
        "    print(sum_result)\n"
      ],
      "metadata": {
        "colab": {
          "base_uri": "https://localhost:8080/"
        },
        "id": "xrqEq8cro3Xw",
        "outputId": "7dbf7549-40ae-45d8-aa4f-dc173a211d64"
      },
      "execution_count": null,
      "outputs": [
        {
          "output_type": "stream",
          "name": "stdout",
          "text": [
            "Result of matrix addition:\n",
            "[[ 8. 10. 12.]\n",
            " [14. 16. 18.]]\n"
          ]
        }
      ]
    },
    {
      "cell_type": "markdown",
      "source": [
        "# **Multiply a constant with Placeholder matrix**"
      ],
      "metadata": {
        "id": "y_WSHKeGz4bQ"
      }
    },
    {
      "cell_type": "code",
      "source": [
        "import tensorflow as tf\n",
        "\n",
        "# Define a constant\n",
        "constant_value = 5.0\n",
        "\n",
        "# Define a placeholder for the matrix\n",
        "matrix = tf.compat.v1.placeholder(tf.float32, shape=[None, None], name=\"matrix\")\n",
        "\n",
        "# Add the constant to the matrix\n",
        "result = tf.add(matrix, constant_value, name=\"result\")\n",
        "\n",
        "# Define input values for the matrix\n",
        "input_matrix = [[1, 2, 3],\n",
        "                [4, 5, 6]]\n",
        "\n",
        "# Start a TensorFlow session\n",
        "with tf.compat.v1.Session() as sess:\n",
        "    # Run the operation to add the constant to the matrix\n",
        "    result_value = sess.run(result, feed_dict={matrix: input_matrix})\n",
        "\n",
        "    # Print the result\n",
        "    print(\"Result of adding constant to matrix:\")\n",
        "    print(result_value)\n"
      ],
      "metadata": {
        "colab": {
          "base_uri": "https://localhost:8080/"
        },
        "id": "X3LdJTMJpAoP",
        "outputId": "426a9dbb-781a-467c-8fee-0b1bb57f557f"
      },
      "execution_count": null,
      "outputs": [
        {
          "output_type": "stream",
          "name": "stdout",
          "text": [
            "Result of adding constant to matrix:\n",
            "[[ 6.  7.  8.]\n",
            " [ 9. 10. 11.]]\n"
          ]
        }
      ]
    },
    {
      "cell_type": "markdown",
      "source": [
        "# **Matrix Operations using Tensorflow**"
      ],
      "metadata": {
        "id": "KMvvJIbs0E7B"
      }
    },
    {
      "cell_type": "code",
      "source": [
        "import tensorflow as tf\n",
        "\n",
        "# Define two variable matrices\n",
        "matrix1 = tf.Variable([[1, 2, 3],\n",
        "                       [4, 5, 6]], dtype=tf.float32, name=\"matrix1\")\n",
        "\n",
        "matrix2 = tf.Variable([[7, 8, 9],\n",
        "                       [10, 11, 12]], dtype=tf.float32, name=\"matrix2\")\n",
        "\n",
        "# Initialize variables\n",
        "init = tf.compat.v1.global_variables_initializer()\n",
        "\n",
        "# Matrix addition\n",
        "matrix_addition = tf.add(matrix1, matrix2, name=\"matrix_addition\")\n",
        "\n",
        "# Matrix subtraction\n",
        "matrix_subtraction = tf.subtract(matrix1, matrix2, name=\"matrix_subtraction\")\n",
        "\n",
        "# Matrix multiplication\n",
        "matrix_multiplication = tf.matmul(matrix1, tf.transpose(matrix2), name=\"matrix_multiplication\")\n",
        "\n",
        "# Element-wise multiplication\n",
        "elementwise_multiplication = tf.multiply(matrix1, matrix2, name=\"elementwise_multiplication\")\n",
        "\n",
        "# Matrix division\n",
        "matrix_division = tf.divide(matrix1, matrix2, name=\"matrix_division\")\n",
        "\n",
        "# Transpose of matrix1\n",
        "matrix1_transpose = tf.transpose(matrix1, name=\"matrix1_transpose\")\n",
        "\n",
        "\n",
        "\n",
        "# Start a TensorFlow session\n",
        "with tf.compat.v1.Session() as sess:\n",
        "    # Initialize variables\n",
        "    sess.run(init)\n",
        "\n",
        "    # Compute the results\n",
        "    addition_result, subtraction_result, multiplication_result, elementwise_multiplication_result, \\\n",
        "    division_result, matrix1_transpose_result = \\\n",
        "    sess.run([matrix_addition, matrix_subtraction, matrix_multiplication, elementwise_multiplication,\n",
        "              matrix_division, matrix1_transpose,])\n",
        "\n",
        "    # Print the computed results\n",
        "    print(\"Matrix Addition:\")\n",
        "    print(addition_result)\n",
        "\n",
        "    print(\"\\nMatrix Subtraction:\")\n",
        "    print(subtraction_result)\n",
        "\n",
        "    print(\"\\nMatrix Multiplication:\")\n",
        "    print(multiplication_result)\n",
        "\n",
        "    print(\"\\nElement-wise Multiplication:\")\n",
        "    print(elementwise_multiplication_result)\n",
        "\n",
        "    print(\"\\nMatrix Division:\")\n",
        "    print(division_result)\n",
        "\n",
        "    print(\"\\nTranspose of matrix1:\")\n",
        "    print(matrix1_transpose_result)\n"
      ],
      "metadata": {
        "colab": {
          "base_uri": "https://localhost:8080/"
        },
        "id": "AqJj0G8OpXrY",
        "outputId": "c658f04d-7a1b-42e8-ea80-1e051f337a8e"
      },
      "execution_count": null,
      "outputs": [
        {
          "output_type": "stream",
          "name": "stdout",
          "text": [
            "Matrix Addition:\n",
            "[[ 8. 10. 12.]\n",
            " [14. 16. 18.]]\n",
            "\n",
            "Matrix Subtraction:\n",
            "[[-6. -6. -6.]\n",
            " [-6. -6. -6.]]\n",
            "\n",
            "Matrix Multiplication:\n",
            "[[ 50.  68.]\n",
            " [122. 167.]]\n",
            "\n",
            "Element-wise Multiplication:\n",
            "[[ 7. 16. 27.]\n",
            " [40. 55. 72.]]\n",
            "\n",
            "Matrix Division:\n",
            "[[0.14285715 0.25       0.33333334]\n",
            " [0.4        0.45454547 0.5       ]]\n",
            "\n",
            "Transpose of matrix1:\n",
            "[[1. 4.]\n",
            " [2. 5.]\n",
            " [3. 6.]]\n"
          ]
        }
      ]
    },
    {
      "cell_type": "markdown",
      "source": [
        "# **Converting a Python list to constant**"
      ],
      "metadata": {
        "id": "VMb319Di0bC6"
      }
    },
    {
      "cell_type": "code",
      "source": [
        "# Define two lists\n",
        "list1 = [1, 2, 3]\n",
        "list2 = [4, 5, 6]\n",
        "\n",
        "# Convert lists to TensorFlow tensors\n",
        "tensor1 = tf.constant(list1, dtype=tf.float32)\n",
        "tensor2 = tf.constant(list2, dtype=tf.float32)\n",
        "\n",
        "# Multiply the tensors element-wise\n",
        "result_tensor = tf.multiply(tensor1, tensor2)\n",
        "\n",
        "# Start a TensorFlow session\n",
        "with tf.compat.v1.Session() as sess:\n",
        "    # Run the operation to multiply the tensors\n",
        "    result = sess.run(result_tensor)\n",
        "\n",
        "    # Print the result\n",
        "    print(\"Result of element-wise multiplication:\", result)\n"
      ],
      "metadata": {
        "colab": {
          "base_uri": "https://localhost:8080/"
        },
        "id": "PfTkYgSnsrTi",
        "outputId": "1be6d11f-4306-40d9-cb44-a2c4d3e39872"
      },
      "execution_count": null,
      "outputs": [
        {
          "output_type": "stream",
          "name": "stdout",
          "text": [
            "Result of element-wise multiplication: [ 4. 10. 18.]\n"
          ]
        }
      ]
    },
    {
      "cell_type": "markdown",
      "source": [
        "# **Gradient Descent using Tensorflow**"
      ],
      "metadata": {
        "id": "ohv9gBcm0rW5"
      }
    },
    {
      "cell_type": "code",
      "source": [
        "import tensorflow as tf\n",
        "import numpy as np\n",
        "import matplotlib.pyplot as plt\n",
        "\n",
        "# Generate some random data for linear regression\n",
        "np.random.seed(0)\n",
        "X = np.random.rand(100, 1)\n",
        "y = 2 * X + 1 + np.random.randn(100, 1) * 0.1  # True relationship: y = 2X + 1 + noise\n",
        "\n",
        "# Define placeholders for input (X) and target (y) data\n",
        "X_placeholder = tf.compat.v1.placeholder(tf.float32, shape=(None, 1), name=\"X\")\n",
        "y_placeholder = tf.compat.v1.placeholder(tf.float32, shape=(None, 1), name=\"y\")\n",
        "\n",
        "# Define variables for the slope (weight) and intercept (bias) of the linear model\n",
        "W = tf.Variable(tf.random.normal([1, 1]), name=\"weight\")\n",
        "b = tf.Variable(tf.zeros([1]), name=\"bias\")\n",
        "\n",
        "# Define the linear regression model\n",
        "y_pred = tf.matmul(X_placeholder, W) + b\n",
        "\n",
        "# Define the loss function (mean squared error)\n",
        "loss = tf.reduce_mean(tf.square(y_placeholder - y_pred))\n",
        "\n",
        "# Define the optimizer (gradient descent) and learning rate\n",
        "learning_rate = 0.01\n",
        "optimizer = tf.compat.v1.train.GradientDescentOptimizer(learning_rate).minimize(loss)\n",
        "\n",
        "# Train the model using gradient descent\n",
        "num_epochs = 200\n",
        "losses = []\n",
        "\n",
        "with tf.compat.v1.Session() as sess:\n",
        "    # Initialize variables\n",
        "    sess.run(tf.compat.v1.global_variables_initializer())\n",
        "\n",
        "    # Run gradient descent for multiple epochs\n",
        "    for epoch in range(num_epochs):\n",
        "        # Perform one step of gradient descent\n",
        "        _, current_loss = sess.run([optimizer, loss], feed_dict={X_placeholder: X, y_placeholder: y})\n",
        "\n",
        "        # Save the current loss for visualization\n",
        "        losses.append(current_loss)\n",
        "\n",
        "        # Print progress\n",
        "        if (epoch + 1) % 10 == 0:\n",
        "            print(f\"Epoch {epoch + 1}/{num_epochs}, Loss: {current_loss:.4f}\")\n",
        "\n",
        "    # Get the final slope (weight) and intercept (bias) values\n",
        "    slope, intercept = sess.run([W, b])\n",
        "\n",
        "# Plot the data and the fitted line\n",
        "plt.scatter(X, y, label='Data')\n",
        "plt.plot(X, slope * X + intercept, color='red', label='Fitted line')\n",
        "plt.xlabel('X')\n",
        "plt.ylabel('y')\n",
        "plt.title('Linear Regression with Gradient Descent')\n",
        "plt.legend()\n",
        "plt.show()\n"
      ],
      "metadata": {
        "colab": {
          "base_uri": "https://localhost:8080/",
          "height": 819
        },
        "id": "gL1cdQkSpydN",
        "outputId": "5b4e8f13-b55c-4e85-b081-1a452816f129"
      },
      "execution_count": null,
      "outputs": [
        {
          "output_type": "stream",
          "name": "stdout",
          "text": [
            "Epoch 10/200, Loss: 1.6080\n",
            "Epoch 20/200, Loss: 0.9840\n",
            "Epoch 30/200, Loss: 0.6061\n",
            "Epoch 40/200, Loss: 0.3772\n",
            "Epoch 50/200, Loss: 0.2385\n",
            "Epoch 60/200, Loss: 0.1544\n",
            "Epoch 70/200, Loss: 0.1033\n",
            "Epoch 80/200, Loss: 0.0722\n",
            "Epoch 90/200, Loss: 0.0533\n",
            "Epoch 100/200, Loss: 0.0416\n",
            "Epoch 110/200, Loss: 0.0345\n",
            "Epoch 120/200, Loss: 0.0300\n",
            "Epoch 130/200, Loss: 0.0271\n",
            "Epoch 140/200, Loss: 0.0252\n",
            "Epoch 150/200, Loss: 0.0240\n",
            "Epoch 160/200, Loss: 0.0231\n",
            "Epoch 170/200, Loss: 0.0224\n",
            "Epoch 180/200, Loss: 0.0219\n",
            "Epoch 190/200, Loss: 0.0215\n",
            "Epoch 200/200, Loss: 0.0211\n"
          ]
        },
        {
          "output_type": "display_data",
          "data": {
            "text/plain": [
              "<Figure size 640x480 with 1 Axes>"
            ],
            "image/png": "[encoded data removed]"
          },
          "metadata": {}
        }
      ]
    },
    {
      "cell_type": "markdown",
      "source": [
        "# **Classification using Tensorflow**"
      ],
      "metadata": {
        "id": "jpqOIGPb4sdT"
      }
    },
    {
      "cell_type": "code",
      "source": [
        "import pandas as pd\n",
        "import numpy as np\n",
        "import tensorflow as tf\n",
        "from sklearn.model_selection import train_test_split\n",
        "from sklearn.preprocessing import StandardScaler\n",
        "\n",
        "# Load the Titanic dataset\n",
        "url = \"https://raw.githubusercontent.com/datasciencedojo/datasets/master/titanic.csv\"\n",
        "titanic_df = pd.read_csv(url)\n",
        "\n",
        "# Preprocess the data\n",
        "titanic_df.drop(['Name', 'Ticket', 'Cabin', 'Embarked'], axis=1, inplace=True)  # Drop irrelevant columns\n",
        "titanic_df['Sex'] = titanic_df['Sex'].map({'male': 0, 'female': 1})  # Convert 'Sex' to numerical values\n",
        "titanic_df['Age'].fillna(titanic_df['Age'].median(), inplace=True)  # Fill missing values in 'Age' with median\n",
        "titanic_df.dropna(inplace=True)  # Drop rows with missing values in remaining columns\n",
        "\n",
        "# Split features and target variable\n",
        "X = titanic_df.drop('Survived', axis=1).values\n",
        "y = titanic_df['Survived'].values\n",
        "\n",
        "# Standardize the features\n",
        "scaler = StandardScaler()\n",
        "X = scaler.fit_transform(X)\n",
        "\n",
        "# Split the data into training and testing sets\n",
        "X_train, X_test, y_train, y_test = train_test_split(X, y, test_size=0.2, random_state=42)\n",
        "\n",
        "# Variables are used to store the parameters of the neural network model that need to be optimized during training.\n",
        "# These parameters include the weights and biases of each layer.\n",
        "# In the provided code, variables are created implicitly when defining the layers of the neural network using tf.keras.layers.Dense() constructor.\n",
        "# Each call to this constructor creates a layer with its own set of variables.\n",
        "# define three dense layers in the neural network, each of which has its own set of variables (weights and biases).\n",
        "# Define the neural network architecture (Tensorflow Variables: values updated at runtime)\n",
        "model = tf.keras.models.Sequential([\n",
        "    tf.keras.layers.Dense(32, activation='relu', input_shape=(7,)),  # Input layer with 32 neurons\n",
        "    tf.keras.layers.Dropout(0.2),  # Dropout layer with dropout rate of 20%\n",
        "    tf.keras.layers.Dense(32, activation='relu'),  # Hidden layer with 32 neurons\n",
        "    tf.keras.layers.Dropout(0.2),  # Dropout layer with dropout rate of 20%\n",
        "    tf.keras.layers.Dense(1, activation='sigmoid')  # Output layer with 1 neuron\n",
        "])\n",
        "\n",
        "# Compile the model\n",
        "model.compile(optimizer='adam',\n",
        "              loss='binary_crossentropy',\n",
        "              metrics=['accuracy'])\n",
        "\n",
        "# Placeholders are used to feed input data into the TensorFlow computational graph during training or inference.\n",
        "# In TensorFlow 2.x (used in the provided code), placeholders are not explicitly used. Instead, input data is directly passed to the model's fit() method.\n",
        "# In earlier versions of TensorFlow (e.g., TensorFlow 1.x), placeholders were explicitly defined using tf.compat.v1.placeholder().\n",
        "# However, in TensorFlow 2.x, placeholders are replaced by direct input data feeding using NumPy arrays or TensorFlow datasets.\n",
        "# split the dataset into training and testing sets, and the model is trained directly using X_train, y_train as input data and labels during the model.fit() call.\n",
        "# Train the model\n",
        "model.fit(X_train, y_train, epochs=50, batch_size=32, validation_data=(X_test, y_test))\n",
        "\n",
        "# Evaluate the model\n",
        "test_loss, test_accuracy = model.evaluate(X_test, y_test)\n",
        "print(\"Test accuracy:\", test_accuracy)\n"
      ],
      "metadata": {
        "colab": {
          "base_uri": "https://localhost:8080/"
        },
        "id": "DIE1KPDXsCjy",
        "outputId": "9d4068a1-601a-499b-f074-2b6c39a62d98"
      },
      "execution_count": null,
      "outputs": [
        {
          "output_type": "stream",
          "name": "stdout",
          "text": [
            "Train on 712 samples, validate on 179 samples\n",
            "Epoch 1/50\n",
            "712/712 [==============================] - 2s 3ms/sample - loss: 0.6757 - accuracy: 0.5548 - val_loss: 0.5980 - val_accuracy: 0.7989\n",
            "Epoch 2/50\n",
            "712/712 [==============================] - 0s 127us/sample - loss: 0.6014 - accuracy: 0.7219 - val_loss: 0.5331 - val_accuracy: 0.7821\n",
            "Epoch 3/50\n",
            " 32/712 [>.............................] - ETA: 0s - loss: 0.5032 - accuracy: 0.9062"
          ]
        },
        {
          "output_type": "stream",
          "name": "stderr",
          "text": [
            "/usr/local/lib/python3.10/dist-packages/keras/src/engine/training_v1.py:2335: UserWarning: `Model.state_updates` will be removed in a future version. This property should not be used in TensorFlow 2.0, as `updates` are applied automatically.\n",
            "  updates = self.state_updates\n"
          ]
        },
        {
          "output_type": "stream",
          "name": "stdout",
          "text": [
            "712/712 [==============================] - 0s 125us/sample - loss: 0.5352 - accuracy: 0.7795 - val_loss: 0.4793 - val_accuracy: 0.8156\n",
            "Epoch 4/50\n",
            "712/712 [==============================] - 0s 116us/sample - loss: 0.5026 - accuracy: 0.8020 - val_loss: 0.4488 - val_accuracy: 0.8045\n",
            "Epoch 5/50\n",
            "712/712 [==============================] - 0s 118us/sample - loss: 0.4890 - accuracy: 0.7935 - val_loss: 0.4336 - val_accuracy: 0.7989\n",
            "Epoch 6/50\n",
            "712/712 [==============================] - 0s 150us/sample - loss: 0.4757 - accuracy: 0.8048 - val_loss: 0.4232 - val_accuracy: 0.8101\n",
            "Epoch 7/50\n",
            "712/712 [==============================] - 0s 234us/sample - loss: 0.4726 - accuracy: 0.7907 - val_loss: 0.4215 - val_accuracy: 0.7989\n",
            "Epoch 8/50\n",
            "712/712 [==============================] - 0s 214us/sample - loss: 0.4457 - accuracy: 0.8160 - val_loss: 0.4177 - val_accuracy: 0.7989\n",
            "Epoch 9/50\n",
            "712/712 [==============================] - 0s 234us/sample - loss: 0.4564 - accuracy: 0.8006 - val_loss: 0.4183 - val_accuracy: 0.8045\n",
            "Epoch 10/50\n",
            "712/712 [==============================] - 0s 314us/sample - loss: 0.4418 - accuracy: 0.8006 - val_loss: 0.4165 - val_accuracy: 0.7989\n",
            "Epoch 11/50\n",
            "712/712 [==============================] - 0s 227us/sample - loss: 0.4575 - accuracy: 0.8160 - val_loss: 0.4145 - val_accuracy: 0.8101\n",
            "Epoch 12/50\n",
            "712/712 [==============================] - 0s 221us/sample - loss: 0.4466 - accuracy: 0.8174 - val_loss: 0.4150 - val_accuracy: 0.8045\n",
            "Epoch 13/50\n",
            "712/712 [==============================] - 0s 247us/sample - loss: 0.4362 - accuracy: 0.8216 - val_loss: 0.4145 - val_accuracy: 0.8101\n",
            "Epoch 14/50\n",
            "712/712 [==============================] - 0s 221us/sample - loss: 0.4398 - accuracy: 0.8188 - val_loss: 0.4163 - val_accuracy: 0.8045\n",
            "Epoch 15/50\n",
            "712/712 [==============================] - 0s 327us/sample - loss: 0.4445 - accuracy: 0.7963 - val_loss: 0.4166 - val_accuracy: 0.8045\n",
            "Epoch 16/50\n",
            "712/712 [==============================] - 0s 311us/sample - loss: 0.4334 - accuracy: 0.8132 - val_loss: 0.4139 - val_accuracy: 0.8101\n",
            "Epoch 17/50\n",
            "712/712 [==============================] - 0s 267us/sample - loss: 0.4321 - accuracy: 0.8062 - val_loss: 0.4164 - val_accuracy: 0.8045\n",
            "Epoch 18/50\n",
            "712/712 [==============================] - 0s 367us/sample - loss: 0.4174 - accuracy: 0.8216 - val_loss: 0.4175 - val_accuracy: 0.8101\n",
            "Epoch 19/50\n",
            "712/712 [==============================] - 0s 285us/sample - loss: 0.4379 - accuracy: 0.8216 - val_loss: 0.4180 - val_accuracy: 0.8101\n",
            "Epoch 20/50\n",
            "712/712 [==============================] - 0s 247us/sample - loss: 0.4371 - accuracy: 0.8272 - val_loss: 0.4170 - val_accuracy: 0.8101\n",
            "Epoch 21/50\n",
            "712/712 [==============================] - 0s 296us/sample - loss: 0.4237 - accuracy: 0.8174 - val_loss: 0.4178 - val_accuracy: 0.8156\n",
            "Epoch 22/50\n",
            "712/712 [==============================] - 0s 391us/sample - loss: 0.4268 - accuracy: 0.8118 - val_loss: 0.4164 - val_accuracy: 0.8101\n",
            "Epoch 23/50\n",
            "712/712 [==============================] - 0s 258us/sample - loss: 0.4286 - accuracy: 0.8202 - val_loss: 0.4157 - val_accuracy: 0.8045\n",
            "Epoch 24/50\n",
            "712/712 [==============================] - 0s 229us/sample - loss: 0.4246 - accuracy: 0.8090 - val_loss: 0.4152 - val_accuracy: 0.8045\n",
            "Epoch 25/50\n",
            "712/712 [==============================] - 0s 207us/sample - loss: 0.4296 - accuracy: 0.8244 - val_loss: 0.4157 - val_accuracy: 0.8101\n",
            "Epoch 26/50\n",
            "712/712 [==============================] - 0s 234us/sample - loss: 0.4114 - accuracy: 0.8329 - val_loss: 0.4170 - val_accuracy: 0.8101\n",
            "Epoch 27/50\n",
            "712/712 [==============================] - 0s 205us/sample - loss: 0.4235 - accuracy: 0.8230 - val_loss: 0.4158 - val_accuracy: 0.8101\n",
            "Epoch 28/50\n",
            "712/712 [==============================] - 0s 232us/sample - loss: 0.4105 - accuracy: 0.8146 - val_loss: 0.4173 - val_accuracy: 0.8101\n",
            "Epoch 29/50\n",
            "712/712 [==============================] - 0s 244us/sample - loss: 0.4306 - accuracy: 0.8272 - val_loss: 0.4191 - val_accuracy: 0.8101\n",
            "Epoch 30/50\n",
            "712/712 [==============================] - 0s 218us/sample - loss: 0.4251 - accuracy: 0.8371 - val_loss: 0.4207 - val_accuracy: 0.8156\n",
            "Epoch 31/50\n",
            "712/712 [==============================] - 0s 217us/sample - loss: 0.4080 - accuracy: 0.8216 - val_loss: 0.4205 - val_accuracy: 0.8156\n",
            "Epoch 32/50\n",
            "712/712 [==============================] - 0s 213us/sample - loss: 0.4127 - accuracy: 0.8216 - val_loss: 0.4182 - val_accuracy: 0.8101\n",
            "Epoch 33/50\n",
            "712/712 [==============================] - 0s 238us/sample - loss: 0.4111 - accuracy: 0.8244 - val_loss: 0.4195 - val_accuracy: 0.8101\n",
            "Epoch 34/50\n",
            "712/712 [==============================] - 0s 250us/sample - loss: 0.4176 - accuracy: 0.8272 - val_loss: 0.4217 - val_accuracy: 0.8156\n",
            "Epoch 35/50\n",
            "712/712 [==============================] - 0s 236us/sample - loss: 0.4172 - accuracy: 0.8258 - val_loss: 0.4243 - val_accuracy: 0.8156\n",
            "Epoch 36/50\n",
            "712/712 [==============================] - 0s 194us/sample - loss: 0.4244 - accuracy: 0.8146 - val_loss: 0.4253 - val_accuracy: 0.8156\n",
            "Epoch 37/50\n",
            "712/712 [==============================] - 0s 227us/sample - loss: 0.4080 - accuracy: 0.8357 - val_loss: 0.4240 - val_accuracy: 0.8156\n",
            "Epoch 38/50\n",
            "712/712 [==============================] - 0s 262us/sample - loss: 0.4125 - accuracy: 0.8287 - val_loss: 0.4227 - val_accuracy: 0.8045\n",
            "Epoch 39/50\n",
            "712/712 [==============================] - 0s 201us/sample - loss: 0.4094 - accuracy: 0.8315 - val_loss: 0.4266 - val_accuracy: 0.8156\n",
            "Epoch 40/50\n",
            "712/712 [==============================] - 0s 202us/sample - loss: 0.4150 - accuracy: 0.8230 - val_loss: 0.4240 - val_accuracy: 0.8101\n",
            "Epoch 41/50\n",
            "712/712 [==============================] - 0s 282us/sample - loss: 0.4143 - accuracy: 0.8315 - val_loss: 0.4243 - val_accuracy: 0.8156\n",
            "Epoch 42/50\n",
            "712/712 [==============================] - 0s 296us/sample - loss: 0.4140 - accuracy: 0.8315 - val_loss: 0.4262 - val_accuracy: 0.7989\n",
            "Epoch 43/50\n",
            "712/712 [==============================] - 0s 253us/sample - loss: 0.4073 - accuracy: 0.8455 - val_loss: 0.4277 - val_accuracy: 0.8101\n",
            "Epoch 44/50\n",
            "712/712 [==============================] - 0s 194us/sample - loss: 0.4155 - accuracy: 0.8258 - val_loss: 0.4302 - val_accuracy: 0.8156\n",
            "Epoch 45/50\n",
            "712/712 [==============================] - 0s 202us/sample - loss: 0.4046 - accuracy: 0.8287 - val_loss: 0.4317 - val_accuracy: 0.7989\n",
            "Epoch 46/50\n",
            "712/712 [==============================] - 0s 198us/sample - loss: 0.4068 - accuracy: 0.8371 - val_loss: 0.4300 - val_accuracy: 0.8101\n",
            "Epoch 47/50\n",
            "712/712 [==============================] - 0s 238us/sample - loss: 0.4103 - accuracy: 0.8343 - val_loss: 0.4274 - val_accuracy: 0.7989\n",
            "Epoch 48/50\n",
            "712/712 [==============================] - 0s 211us/sample - loss: 0.4163 - accuracy: 0.8343 - val_loss: 0.4283 - val_accuracy: 0.8101\n",
            "Epoch 49/50\n",
            "712/712 [==============================] - 0s 228us/sample - loss: 0.4202 - accuracy: 0.8216 - val_loss: 0.4289 - val_accuracy: 0.8156\n",
            "Epoch 50/50\n",
            "712/712 [==============================] - 0s 218us/sample - loss: 0.4066 - accuracy: 0.8258 - val_loss: 0.4269 - val_accuracy: 0.8101\n",
            "Test accuracy: 0.81005585\n"
          ]
        }
      ]
    }
  ],
  "metadata": {
    "accelerator": "GPU",
    "colab": {
      "provenance": []
    },
    "gpuClass": "standard",
    "kernelspec": {
      "display_name": "Python 3",
      "name": "python3"
    },
    "language_info": {
      "name": "python"
    }
  },
  "nbformat": 4,
  "nbformat_minor": 0
}